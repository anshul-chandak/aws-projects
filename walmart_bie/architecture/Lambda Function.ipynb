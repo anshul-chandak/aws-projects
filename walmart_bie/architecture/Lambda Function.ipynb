{
 "cells": [
  {
   "cell_type": "code",
   "execution_count": null,
   "id": "337bf120",
   "metadata": {},
   "outputs": [],
   "source": [
    "import boto3\n",
    "import time\n",
    "\n",
    "def lambda_handler(event, context):\n",
    "    bucket = event['Records'][0]['s3']['bucket']['name']\n",
    "    key = event['Records'][0]['s3']['object']['key']\n",
    "\n",
    "    workgroup_name = 'walmart-bie-workgroup'\n",
    "    database_name = 'dev'\n",
    "    iam_role = 'arn:aws:iam::748065983427:role/redshift-serverless-s3-execution-role'\n",
    "\n",
    "    redshift = boto3.client('redshift-data')\n",
    "\n",
    "    time.sleep(5)\n",
    "\n",
    "    copy_sql = f\"\"\"\n",
    "    COPY walmart_sales\n",
    "    FROM 's3://{bucket}/{key}'\n",
    "    IAM_ROLE '{iam_role}'\n",
    "    FORMAT AS CSV\n",
    "    IGNOREHEADER 1;\n",
    "    \"\"\"\n",
    "\n",
    "    redshift.execute_statement(\n",
    "        WorkgroupName=workgroup_name,\n",
    "        Database=database_name,\n",
    "        Sql=copy_sql\n",
    "    )\n",
    "\n",
    "    # Simple CloudWatch log entry\n",
    "    print(f\"COPY command submitted for: s3://{bucket}/{key}\")\n",
    "\n",
    "    return {\n",
    "        'statusCode': 200,\n",
    "        'body': f'Submitted COPY command for {key}'\n",
    "    }\n"
   ]
  }
 ],
 "metadata": {
  "kernelspec": {
   "display_name": "Python 3 (ipykernel)",
   "language": "python",
   "name": "python3"
  },
  "language_info": {
   "codemirror_mode": {
    "name": "ipython",
    "version": 3
   },
   "file_extension": ".py",
   "mimetype": "text/x-python",
   "name": "python",
   "nbconvert_exporter": "python",
   "pygments_lexer": "ipython3",
   "version": "3.11.4"
  }
 },
 "nbformat": 4,
 "nbformat_minor": 5
}
